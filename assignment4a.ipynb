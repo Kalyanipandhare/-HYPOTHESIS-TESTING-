{
 "cells": [
  {
   "cell_type": "code",
   "execution_count": null,
   "id": "a3e69a76-1158-43f6-8a95-207bb1b6d9e4",
   "metadata": {},
   "outputs": [],
   "source": [
    "\"\"\"HYPOTHESIS TESTING\"\"\""
   ]
  },
  {
   "cell_type": "code",
   "execution_count": 1,
   "id": "7a671562-f2b9-4ad4-a8bc-0defcd69aab2",
   "metadata": {},
   "outputs": [
    {
     "name": "stdout",
     "output_type": "stream",
     "text": [
      "=== Hypothesis Testing: Weekly Operating Cost ===\n",
      "Sample Mean (x̄): Rs. 3050\n",
      "Theoretical Mean (µ): Rs. 4000\n",
      "Standard Deviation of Cost: 125\n",
      "Sample Size (n): 25\n",
      "Standard Error (SE): 25.00\n",
      "Z-Statistic: -38.0000\n",
      "Z-Critical Value at α = 0.05 (one-tailed): 1.6449\n",
      "Decision: we accept null hypothesis\n",
      "Conclusion: There is not enough evidence to suggest that weekly operating costs are higher.\n"
     ]
    }
   ],
   "source": [
    "\n",
    "\n",
    "import math\n",
    "from scipy.stats import norm\n",
    "\n",
    "# Step 1: State the Hypotheses\n",
    "# Null Hypothesis (H0): The average weekly operating cost has NOT increased (µ = 1000 + 5*600 = Rs. 4000)\n",
    "# Alternative Hypothesis (H1): The average weekly operating cost is HIGHER than Rs. 4000 (µ > 4000)\n",
    "\n",
    "# Step 2: Given data\n",
    "sample_mean = 3050     # Rs. 3050\n",
    "x_units = 600          # mean number of units produced\n",
    "sample_size = 25       # number of restaurants\n",
    "sigma_x = 25           # standard deviation of X (units)\n",
    "sigma_cost = 5 * sigma_x  # Standard deviation of W\n",
    "theoretical_mean = 1000 + 5 * x_units  # Rs. 1000 + Rs. 5 * 600 = Rs. 4000\n",
    "\n",
    "# Calculate standard error (SE)\n",
    "standard_error = sigma_cost / math.sqrt(sample_size)\n",
    "\n",
    "# Calculate test statistic (Z-score)\n",
    "z_score = (sample_mean - theoretical_mean) / standard_error\n",
    "\n",
    "print(\"=== Hypothesis Testing: Weekly Operating Cost ===\")\n",
    "print(f\"Sample Mean (x̄): Rs. {sample_mean}\")\n",
    "print(f\"Theoretical Mean (µ): Rs. {theoretical_mean}\")\n",
    "print(f\"Standard Deviation of Cost: {sigma_cost}\")\n",
    "print(f\"Sample Size (n): {sample_size}\")\n",
    "print(f\"Standard Error (SE): {standard_error:.2f}\")\n",
    "print(f\"Z-Statistic: {z_score:.4f}\")\n",
    "\n",
    "# Step 3: Determine the Critical Value\n",
    "alpha = 0.05\n",
    "z_critical = norm.ppf(1 - alpha)  # One-tailed test\n",
    "\n",
    "print(f\"Z-Critical Value at α = 0.05 (one-tailed): {z_critical:.4f}\")\n",
    "\n",
    "# Step 4: Make a Decision\n",
    "if z_score > z_critical:\n",
    "    print(\"Decision: Reject the null hypothesis.\")\n",
    "    print(\"Conclusion: There is strong evidence that weekly operating costs are higher than the model suggests.\")\n",
    "else:\n",
    "    print(\"Decision: we accept null hypothesis\")\n",
    "    print(\"Conclusion: There is not enough evidence to suggest that weekly operating costs are higher.\")\n"
   ]
  },
  {
   "cell_type": "code",
   "execution_count": null,
   "id": "f917a2e9-a8ee-4716-9115-db126de9325d",
   "metadata": {},
   "outputs": [],
   "source": [
    "\"\"\"1. Hypotheses\n",
    "H₀: µ = Rs. 4000 \n",
    "\n",
    "H₁: µ > Rs. 4000 (costs have increased)\n",
    "\n",
    "2. Test Statistic Calculation\n",
    "Sample mean = Rs. 3050\n",
    "\n",
    "Theoretical mean = Rs. 4000\n",
    "\n",
    "σ = 5 × 25 = 125\n",
    "\n",
    "SE = 125 / √25 = 25\n",
    "\n",
    "Z = (3050 - 4000) / 25 = -38.0\n",
    "\n",
    "3. Critical Value\n",
    "One-tailed test at α = 0.05\n",
    "\n",
    "Z-critical ≈ 1.645\n",
    "\n",
    "4. Decision\n",
    "Z = -38.0 < 1.645 → ## we accept H₀\n",
    "\n",
    "5. Conclusion\n",
    "The sample mean is lower than the theoretical mean, contradicting the claim of increased costs.\n",
    "\n",
    "So, based on the data provided, there's no strong evidence that operating costs have increased.\"\"\"\n"
   ]
  }
 ],
 "metadata": {
  "kernelspec": {
   "display_name": "Python 3 (ipykernel)",
   "language": "python",
   "name": "python3"
  },
  "language_info": {
   "codemirror_mode": {
    "name": "ipython",
    "version": 3
   },
   "file_extension": ".py",
   "mimetype": "text/x-python",
   "name": "python",
   "nbconvert_exporter": "python",
   "pygments_lexer": "ipython3",
   "version": "3.12.4"
  }
 },
 "nbformat": 4,
 "nbformat_minor": 5
}
